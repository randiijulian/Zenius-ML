{
  "nbformat": 4,
  "nbformat_minor": 0,
  "metadata": {
    "colab": {
      "name": "Day15HW_Randi Julian Saputra.ipynb",
      "provenance": [],
      "collapsed_sections": [],
      "toc_visible": true,
      "authorship_tag": "ABX9TyPSnrENtT3HwtOmyQREwvT/",
      "include_colab_link": true
    },
    "kernelspec": {
      "name": "python3",
      "display_name": "Python 3"
    },
    "language_info": {
      "name": "python"
    },
    "accelerator": "GPU",
    "gpuClass": "standard"
  },
  "cells": [
    {
      "cell_type": "markdown",
      "metadata": {
        "id": "view-in-github",
        "colab_type": "text"
      },
      "source": [
        "<a href=\"https://colab.research.google.com/github/randiijulian/Zenius-ML/blob/main/Day15HW_Randi_Julian_Saputra.ipynb\" target=\"_parent\"><img src=\"https://colab.research.google.com/assets/colab-badge.svg\" alt=\"Open In Colab\"/></a>"
      ]
    },
    {
      "cell_type": "markdown",
      "source": [
        "#Day 15 Assignment"
      ],
      "metadata": {
        "id": "E4HxNfHi-7Hg"
      }
    },
    {
      "cell_type": "code",
      "execution_count": null,
      "metadata": {
        "id": "WXiL1PmO-SPk",
        "colab": {
          "base_uri": "https://localhost:8080/"
        },
        "outputId": "58a70da2-9f2d-4411-cc79-d88aba0c8b9a"
      },
      "outputs": [
        {
          "output_type": "stream",
          "name": "stdout",
          "text": [
            "Mounted at /content/drive\n"
          ]
        }
      ],
      "source": [
        "from google.colab import drive\n",
        "drive.mount('/content/drive')"
      ]
    },
    {
      "cell_type": "markdown",
      "source": [
        "## Unsupervised ML Python Homework"
      ],
      "metadata": {
        "id": "7lzuKbLO_PMY"
      }
    },
    {
      "cell_type": "code",
      "source": [
        "import numpy as np\n",
        "import pandas as pd\n",
        "import sklearn\n",
        "import sys\n",
        "import warnings\n",
        "import os\n",
        "if not sys.warnoptions:\n",
        "    warnings.simplefilter(\"ignore\")\n",
        "    os.environ[\"PYTHONWARNINGS\"] = \"ignore\" \n",
        "\n",
        "import matplotlib.pyplot as plt\n",
        "import seaborn as sns\n",
        "import time\n",
        "\n",
        "\n",
        "from sklearn.decomposition import PCA\n",
        "\n",
        "import numpy as np\n",
        "import pandas as pd\n",
        "\n",
        "from sklearn.cluster import KMeans\n",
        "from sklearn.metrics import silhouette_samples, silhouette_score\n",
        "\n",
        "import matplotlib.pyplot as plt\n",
        "import matplotlib.cm as cm\n",
        "import seaborn as sns"
      ],
      "metadata": {
        "id": "PPSH_PdH_P83"
      },
      "execution_count": null,
      "outputs": []
    },
    {
      "cell_type": "code",
      "source": [
        "data = pd.read_csv(\"/content/drive/MyDrive/Uni Life's/ML Zenius/Day 15/unsupervised_ml_homework_data.csv\")"
      ],
      "metadata": {
        "id": "aAhGkY4D_dSe"
      },
      "execution_count": null,
      "outputs": []
    },
    {
      "cell_type": "markdown",
      "source": [
        "### Soal 1: PCA"
      ],
      "metadata": {
        "id": "8OcH6-g4A_eZ"
      }
    },
    {
      "cell_type": "markdown",
      "source": [
        "Instruksi:\n",
        "1. Lakukan PCA pada data yang telah di-import di cell atas.\n",
        "2. Ketentuan PCA: Ambil sampai threshold explained variancenya 0.8 (80%)\n",
        "3. Berapa Principal Components yang diambil?\n",
        "4. Simpan data hasil PCA karena data hasil PCA ini akan digunakan di Soal 2: K-Means"
      ],
      "metadata": {
        "id": "VGy8fyihBBGb"
      }
    },
    {
      "cell_type": "code",
      "source": [
        "data.shape"
      ],
      "metadata": {
        "colab": {
          "base_uri": "https://localhost:8080/"
        },
        "id": "S6byi3MgBNCJ",
        "outputId": "1c77458d-fe7c-465f-b6a1-f491c0b086d6"
      },
      "execution_count": null,
      "outputs": [
        {
          "output_type": "execute_result",
          "data": {
            "text/plain": [
              "(1000, 20)"
            ]
          },
          "metadata": {},
          "execution_count": 7
        }
      ]
    },
    {
      "cell_type": "code",
      "source": [
        "#Melakukan PCA dengan explained variancenya 0.8 (80%)\n",
        "pca = PCA(0.8)\n",
        "pca.fit(data)\n",
        "\n",
        "data_new = pca.transform(data)"
      ],
      "metadata": {
        "id": "45KBj6XlBBpC"
      },
      "execution_count": null,
      "outputs": []
    },
    {
      "cell_type": "code",
      "source": [
        "#Meliat Principal Components yang diambil\n",
        "pca.n_components_"
      ],
      "metadata": {
        "colab": {
          "base_uri": "https://localhost:8080/"
        },
        "id": "nvqv2w6yBE34",
        "outputId": "5a38f8b2-6ade-46ed-c56b-6e6d94ade250"
      },
      "execution_count": null,
      "outputs": [
        {
          "output_type": "execute_result",
          "data": {
            "text/plain": [
              "12"
            ]
          },
          "metadata": {},
          "execution_count": 13
        }
      ]
    },
    {
      "cell_type": "markdown",
      "source": [
        "##### Jawab: \n",
        "Hasil PCA adalah mengambil 12 Principal Components. "
      ],
      "metadata": {
        "id": "XsTS8Hf1D6Y4"
      }
    },
    {
      "cell_type": "markdown",
      "source": [
        "### Soal 2: K Means"
      ],
      "metadata": {
        "id": "Jc4wMGjgDhWa"
      }
    },
    {
      "cell_type": "markdown",
      "source": [
        "Instruksi:\n",
        "1. Dari data yang sudah di-PCA-kan (jadi datanya sudah baru ya, bukan data original lagi, ingat, data yang sudah di-PCA-kan), kita akan menentukan k = ?? yang paling ideal untuk clustering.\n",
        "2. Lakukan Elbow dan Silhouette method\n",
        "3. Visualisasikan hasil Elbow dan Silhouette method\n",
        "4. Berapa nilai k yang terbaik? "
      ],
      "metadata": {
        "id": "eI93CSKvDiDX"
      }
    },
    {
      "cell_type": "code",
      "source": [
        "# Elbow Method\n",
        "score = []\n",
        "\n",
        "for cluster in range(1,11):\n",
        "    kmeans = KMeans(n_clusters = cluster, init=\"k-means++\", random_state=10)\n",
        "    kmeans.fit(data_new)\n",
        "    score.append(kmeans.inertia_)\n",
        "    \n",
        "# plotting the score\n",
        "plt.plot(range(1,11), score)\n",
        "plt.title('The Elbow Method')\n",
        "plt.xlabel('no of clusters')\n",
        "plt.ylabel('wcss')\n",
        "plt.show()"
      ],
      "metadata": {
        "id": "Sx4aLxJdDjnp"
      },
      "execution_count": null,
      "outputs": []
    },
    {
      "cell_type": "code",
      "source": [
        "# Silhouette score\n",
        "silhouette_coefficients = []\n",
        "\n",
        "# Notice you start at 2 clusters for silhouette coefficient\n",
        "for k in range(2, 11):\n",
        "    kmeans = KMeans(n_clusters=k, init=\"k-means++\", random_state=10)\n",
        "    kmeans.fit(data_new)\n",
        "    score = silhouette_score(data_new, kmeans.labels_)\n",
        "    silhouette_coefficients.append(score)\n",
        "    \n",
        "# plotting the score    \n",
        "plt.plot(range(2, 11), silhouette_coefficients)\n",
        "plt.xticks(range(2, 11))\n",
        "plt.xlabel(\"Number of Clusters\")\n",
        "plt.ylabel(\"Silhouette Coefficient\")\n",
        "plt.show()"
      ],
      "metadata": {
        "id": "1_13KdSmDlYy"
      },
      "execution_count": null,
      "outputs": []
    },
    {
      "cell_type": "markdown",
      "source": [
        "##### Jawab: \n",
        "Nilai k yang terbaik berdasarkan Elbow dan Silhouette method adalah k = 3"
      ],
      "metadata": {
        "id": "nZoPIdGkDr5A"
      }
    },
    {
      "cell_type": "markdown",
      "source": [
        "Karena Elbow terjadi di k = 2 dan k = 3, sedangkan nilai Silhouette tertinggi ada di k = 3.\n",
        "\n",
        "Berarti, kita bisa berasumsi bahwa k = 3 menjadi k yang paling ideal dalam k-Means ini."
      ],
      "metadata": {
        "id": "WeksEn_PDtbx"
      }
    }
  ]
}