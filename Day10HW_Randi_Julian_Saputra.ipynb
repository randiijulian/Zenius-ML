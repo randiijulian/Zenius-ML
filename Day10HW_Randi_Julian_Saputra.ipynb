{
  "nbformat": 4,
  "nbformat_minor": 0,
  "metadata": {
    "colab": {
      "name": "Day10HW_Randi Julian Saputra.ipynb",
      "provenance": [],
      "collapsed_sections": [],
      "toc_visible": true,
      "authorship_tag": "ABX9TyMRmR05yTjN/KjGhVphhuJG",
      "include_colab_link": true
    },
    "kernelspec": {
      "name": "python3",
      "display_name": "Python 3"
    },
    "language_info": {
      "name": "python"
    }
  },
  "cells": [
    {
      "cell_type": "markdown",
      "metadata": {
        "id": "view-in-github",
        "colab_type": "text"
      },
      "source": [
        "<a href=\"https://colab.research.google.com/github/randiijulian/Zenius-ML/blob/main/Day10HW_Randi_Julian_Saputra.ipynb\" target=\"_parent\"><img src=\"https://colab.research.google.com/assets/colab-badge.svg\" alt=\"Open In Colab\"/></a>"
      ]
    },
    {
      "cell_type": "markdown",
      "source": [
        "#Day 10 Assignment"
      ],
      "metadata": {
        "id": "tP2MkxCjc6xT"
      }
    },
    {
      "cell_type": "code",
      "execution_count": 2,
      "metadata": {
        "id": "R0Vkrn44cXQV",
        "colab": {
          "base_uri": "https://localhost:8080/"
        },
        "outputId": "1e5937ad-5b84-4ae7-a171-5ea30d15c8bb"
      },
      "outputs": [
        {
          "output_type": "stream",
          "name": "stdout",
          "text": [
            "Mounted at /content/drive\n"
          ]
        }
      ],
      "source": [
        "from google.colab import drive\n",
        "drive.mount('/content/drive')"
      ]
    },
    {
      "cell_type": "markdown",
      "source": [
        "import library yang dibutuhkan"
      ],
      "metadata": {
        "id": "qbIY_b0IddkD"
      }
    },
    {
      "cell_type": "code",
      "source": [
        "import scipy.stats as stats"
      ],
      "metadata": {
        "id": "bJb1tjrCc6do"
      },
      "execution_count": 3,
      "outputs": []
    },
    {
      "cell_type": "markdown",
      "source": [
        "A company wants to run a new campaign to increase the transactions’ amount of its product.\n",
        "Before running the actual campaign to the whole customers, the company wants to know the\n",
        "campaign’s effectiveness in their 30 days transactions’ amount.\n",
        "The average of transactions’ amount before the campaign is $100.\n",
        "The company ran a testing on 20 customers and gathered their transactions’ amount in the next 30\n",
        "days after the campaign. The data is stored in this table below.\n",
        "Run a t-test analysis on the transactions’ amount average (with alpha = 5%)."
      ],
      "metadata": {
        "id": "JD3yLMQFdk0Y"
      }
    },
    {
      "cell_type": "code",
      "source": [
        "data = [100, 150, 50, 100, 130, 120, 100, 110, 75, 65, 150, 120, 50, 100, 100, 140, 90, 150, 50, 90]"
      ],
      "metadata": {
        "id": "z7iDQC8Ud1-T"
      },
      "execution_count": 4,
      "outputs": []
    },
    {
      "cell_type": "markdown",
      "source": [
        "## Define H0 and H1"
      ],
      "metadata": {
        "id": "MwjpECsbqYN3"
      }
    },
    {
      "cell_type": "markdown",
      "source": [
        "H0 : The average of transactions after the campaign = 100\n",
        "\n",
        "- One tailed\n",
        "    - H1 : The average of transactions after the campaign > 100\n",
        "    - H1 : The average of transactions after the campaign < 100\n",
        "\n",
        "\n",
        "- Two tailed\n",
        "    - H1 : The average of transactions after the campaign != 100"
      ],
      "metadata": {
        "id": "Xf_5YalQqjla"
      }
    },
    {
      "cell_type": "code",
      "source": [
        "# perform one sample t-test\n",
        "stats.ttest_1samp(a=data, popmean=100)"
      ],
      "metadata": {
        "colab": {
          "base_uri": "https://localhost:8080/"
        },
        "id": "Rog7vK9IqV5_",
        "outputId": "458a42c1-c5cc-4753-fec5-261b2e3ee555"
      },
      "execution_count": 5,
      "outputs": [
        {
          "output_type": "execute_result",
          "data": {
            "text/plain": [
              "Ttest_1sampResult(statistic=0.2731657711666385, pvalue=0.787672894169515)"
            ]
          },
          "metadata": {},
          "execution_count": 5
        }
      ]
    },
    {
      "cell_type": "markdown",
      "source": [
        "* If using alpha = 0.05, then the concolusion is P-value larger than alpha, meaning we fail to reject H0\n",
        "* Conclusion: The mean is equal to 100\n",
        "* If using t statistic, we have to find the critical region first:"
      ],
      "metadata": {
        "id": "mARnwQ5Sq5M9"
      }
    },
    {
      "cell_type": "code",
      "source": [
        "# For two tailed test:\n",
        "stats.t.ppf(1-(0.05/2), 19)"
      ],
      "metadata": {
        "colab": {
          "base_uri": "https://localhost:8080/"
        },
        "id": "8FmeZR22qm95",
        "outputId": "26d0fa52-861b-46ca-f654-cffe07cab139"
      },
      "execution_count": 6,
      "outputs": [
        {
          "output_type": "execute_result",
          "data": {
            "text/plain": [
              "2.093024054408263"
            ]
          },
          "metadata": {},
          "execution_count": 6
        }
      ]
    },
    {
      "cell_type": "markdown",
      "source": [
        "* Critical Region: t < - 2.09 or t > 2.09\n",
        "* t statistic = 0.2731657711666385\n",
        "* As t statistic is not in the critical region, then we fail to reject H0\n",
        "* Conclusion: The mean is equal to 100"
      ],
      "metadata": {
        "id": "D9lUln5GrF46"
      }
    },
    {
      "cell_type": "code",
      "source": [
        "# For One tailed test:\n",
        "0.787672894169515/2"
      ],
      "metadata": {
        "colab": {
          "base_uri": "https://localhost:8080/"
        },
        "id": "1VyPTJwoqowC",
        "outputId": "48407b11-cb9d-474a-b6b9-c84b8e69e8ba"
      },
      "execution_count": 7,
      "outputs": [
        {
          "output_type": "execute_result",
          "data": {
            "text/plain": [
              "0.3938364470847575"
            ]
          },
          "metadata": {},
          "execution_count": 7
        }
      ]
    },
    {
      "cell_type": "markdown",
      "source": [
        "* If using alpha = 0.05, use P-value/2 = 0.39. The concolusion is P-value/2 larger than alpha, meaning we fail to reject H0\n",
        "* Conclusion: The mean is equal to 100\n",
        "\n",
        "* If using t statistic, we have to find the critical region first:"
      ],
      "metadata": {
        "id": "_JkFh8jirVYJ"
      }
    },
    {
      "cell_type": "code",
      "source": [
        "# If H1: mean > 100 (right side)\n",
        "stats.t.ppf(1-0.05, 19)"
      ],
      "metadata": {
        "colab": {
          "base_uri": "https://localhost:8080/"
        },
        "id": "8fDRabx0qtnl",
        "outputId": "af729fa5-6291-4eff-8b31-f92f7ee47b74"
      },
      "execution_count": 8,
      "outputs": [
        {
          "output_type": "execute_result",
          "data": {
            "text/plain": [
              "1.729132811521367"
            ]
          },
          "metadata": {},
          "execution_count": 8
        }
      ]
    },
    {
      "cell_type": "markdown",
      "source": [
        "* Critical Region: t > 1.72\n",
        "* t statistic = 0.2731657711666385\n",
        "* As t statistic is not in the critical region, then we fail to reject H0\n",
        "* Conclusion: The mean is equal to 100"
      ],
      "metadata": {
        "id": "NyCZqfjLraxS"
      }
    },
    {
      "cell_type": "code",
      "source": [
        "# If H1: mean < 100 (left side)\n",
        "stats.t.ppf(0.05, 19)"
      ],
      "metadata": {
        "colab": {
          "base_uri": "https://localhost:8080/"
        },
        "id": "PQ5VAbv0qxOk",
        "outputId": "7ebd81a1-944f-4096-8505-d2166bbab352"
      },
      "execution_count": 9,
      "outputs": [
        {
          "output_type": "execute_result",
          "data": {
            "text/plain": [
              "-1.7291328115213678"
            ]
          },
          "metadata": {},
          "execution_count": 9
        }
      ]
    },
    {
      "cell_type": "markdown",
      "source": [
        "* Critical Region: t < -1.72\n",
        "* As t statistic is not in the critical region, then we fail to reject H0\n",
        "* Conclusion: The mean is equal to 100"
      ],
      "metadata": {
        "id": "3HTxecdDrd-v"
      }
    }
  ]
}