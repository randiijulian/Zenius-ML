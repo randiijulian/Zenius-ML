{
  "nbformat": 4,
  "nbformat_minor": 0,
  "metadata": {
    "colab": {
      "name": "Day6HW_Randi Julian Saputra.ipynb",
      "provenance": [],
      "collapsed_sections": [],
      "authorship_tag": "ABX9TyPANxHxxy8lpYoq9xPedoO9",
      "include_colab_link": true
    },
    "kernelspec": {
      "name": "python3",
      "display_name": "Python 3"
    },
    "language_info": {
      "name": "python"
    }
  },
  "cells": [
    {
      "cell_type": "markdown",
      "metadata": {
        "id": "view-in-github",
        "colab_type": "text"
      },
      "source": [
        "<a href=\"https://colab.research.google.com/github/randiijulian/Zenius-ML/blob/main/Day6HW_Randi_Julian_Saputra.ipynb\" target=\"_parent\"><img src=\"https://colab.research.google.com/assets/colab-badge.svg\" alt=\"Open In Colab\"/></a>"
      ]
    },
    {
      "cell_type": "code",
      "execution_count": null,
      "metadata": {
        "id": "EoEtoA1WVQyy"
      },
      "outputs": [],
      "source": [
        "import pandas as pd\n",
        "import numpy as np"
      ]
    },
    {
      "cell_type": "markdown",
      "source": [
        "##1. Creating Dataframe from Dictionary of List"
      ],
      "metadata": {
        "id": "b9cV8mrsbSKV"
      }
    },
    {
      "cell_type": "code",
      "source": [
        "df = pd.DataFrame({\n",
        "    \"name\": [\"Anna\", \"Dane\", \"David\", \"Kevin\", \"Joe\", \"Rose\"], #Columns 1\n",
        "    \"weight\": [45.2, 50.5, 62.1, 64.0, 59.0, np.nan], #Columns 2\n",
        "    \"height\": [155, 160, 162, 170, 167, 159], #Columns 3\n",
        "    \"birth_year\": [2000, 1997, 1996, 1987, 1998, 2003], #Columns 4\n",
        "    \"gender\": [\"female\", \"male\", \"male\", \"male\", \"male\", \"female\"], #Columns 5\n",
        "    \"city\": [\"New York\", \"Chicago\", \"Austin\", \"New York\", np.nan, \"New York\"] #Columns 6\n",
        "})\n",
        "df"
      ],
      "metadata": {
        "id": "r0qxvU2NYOh3"
      },
      "execution_count": null,
      "outputs": []
    },
    {
      "cell_type": "markdown",
      "source": [
        "##2. Create another Pandas DataFrame as the following and merge it with the previous DataFrame (key=name and nick name). Make sure that no rows are missing from the original DataFrame"
      ],
      "metadata": {
        "id": "HtVFEwjpbaeH"
      }
    },
    {
      "cell_type": "code",
      "source": [
        "df = pd.DataFrame({\n",
        "    \"nick_name\": [\"Anna\", \"David\", \"Danne\", \"Rose\"], #Columns 1\n",
        "    \"full_name\": [\"Anna Levis\", \"David John\", \"Rose Kimberly\"], #Columns 5\n",
        "})\n",
        "df"
      ],
      "metadata": {
        "id": "zpfpAJGEbYyd"
      },
      "execution_count": null,
      "outputs": []
    }
  ]
}