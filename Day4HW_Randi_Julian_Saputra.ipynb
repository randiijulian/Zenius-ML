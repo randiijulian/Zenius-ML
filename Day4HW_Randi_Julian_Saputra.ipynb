{
  "nbformat": 4,
  "nbformat_minor": 0,
  "metadata": {
    "colab": {
      "name": "Day4HW_Randi Julian Saputra.ipynb",
      "provenance": [],
      "collapsed_sections": [],
      "authorship_tag": "ABX9TyPNBtEKNQFzIutnWcQew7WD",
      "include_colab_link": true
    },
    "kernelspec": {
      "name": "python3",
      "display_name": "Python 3"
    },
    "language_info": {
      "name": "python"
    }
  },
  "cells": [
    {
      "cell_type": "markdown",
      "metadata": {
        "id": "view-in-github",
        "colab_type": "text"
      },
      "source": [
        "<a href=\"https://colab.research.google.com/github/randi15/Zenius-ML/blob/main/Day4HW_Randi_Julian_Saputra.ipynb\" target=\"_parent\"><img src=\"https://colab.research.google.com/assets/colab-badge.svg\" alt=\"Open In Colab\"/></a>"
      ]
    },
    {
      "cell_type": "code",
      "source": [
        "def leap_year(x:int):\n",
        "  if((x %4==0) and (x %100!=0) or (x %400==0)): #fungsi jika x dibagi 4 = 0 dan jika x dibagi 100 tidak sama dengan 0 atau x dibagi 400 = 0 \n",
        "    print(\"Year {} is a leap year.\".format(x)) #format x digunakan untuk mengisi input {} pada output\n",
        "  else :\n",
        "    for y in range(5): #perulangan y digunakan untuk melihat 5 tahun kedepan untuk melihat tahun kabisat berikutnya\n",
        "      y = y+x\n",
        "      if((y %4==0) and (y %100!=0) or (y %400==0)): #fungsi jika y dibagi 4 = 0 dan jika y dibagi 100 tidak sama dengan 0 atau y dibagi 400 = 0 \n",
        "        y\n",
        "        break\n",
        "    print(\"Year {} is not a leap year. The nest leap year after {} is {}\". format(x,x,y)) #format x,xy digunakan untuk mengisi input {} sesuai urutan"
      ],
      "metadata": {
        "id": "hc4LzVYCa3F1"
      },
      "execution_count": null,
      "outputs": []
    },
    {
      "cell_type": "code",
      "source": [
        "leap_year(2022)"
      ],
      "metadata": {
        "colab": {
          "base_uri": "https://localhost:8080/"
        },
        "id": "xJzzroFxj0kw",
        "outputId": "9a5f59ee-f919-493f-ca48-5064a75cce5d"
      },
      "execution_count": null,
      "outputs": [
        {
          "output_type": "stream",
          "name": "stdout",
          "text": [
            "Year 2022 is not a leap year. The nest leap year after 2022 is 2024\n"
          ]
        }
      ]
    },
    {
      "cell_type": "code",
      "source": [
        "leap_year(2004)"
      ],
      "metadata": {
        "colab": {
          "base_uri": "https://localhost:8080/"
        },
        "id": "6C68b9MFj1Gt",
        "outputId": "b95fdb0a-60bf-4c95-b201-160539ef9378"
      },
      "execution_count": null,
      "outputs": [
        {
          "output_type": "stream",
          "name": "stdout",
          "text": [
            "Year 2004 is a leap year.\n"
          ]
        }
      ]
    }
  ]
}